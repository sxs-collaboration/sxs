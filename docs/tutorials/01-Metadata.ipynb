{
 "cells": [
  {
   "cell_type": "markdown",
   "metadata": {},
   "source": [
    "# Metadata\n",
    "\n",
    "For each simulation, you need to know its features: mass ratio, spins, etc.  The `sxs.metadata` object encapsulates that information, with nice interactive features to help you explore.\n",
    "\n",
    "For any given simulation, you can load the metadata like this:"
   ]
  },
  {
   "cell_type": "code",
   "execution_count": 1,
   "metadata": {
    "ExecuteTime": {
     "end_time": "2020-09-17T15:28:09.583431Z",
     "start_time": "2020-09-17T15:28:01.897576Z"
    }
   },
   "outputs": [
    {
     "name": "stdout",
     "output_type": "stream",
     "text": [
      "Skipping download from 'https://data.black-holes.org/catalog.json' because local file is newer\n",
      "Found the following files to load from the SXS catalog:\n",
      "    SXS:BBH:0123v4/Lev5/metadata.json\n"
     ]
    }
   ],
   "source": [
    "import sxs\n",
    "\n",
    "metadata = sxs.load(\"SXS:BBH:0123/Lev/metadata.json\")"
   ]
  },
  {
   "cell_type": "markdown",
   "metadata": {},
   "source": [
    "We'll be describing the `sxs.load` function in more detail later.  For now, let's focus on `metadata`.\n",
    "\n",
    "Essentially, `metadata` is a standard python `dict`, with a few extra bells and whistles.  For example, it looks a bit tidier than your basic `dict`:"
   ]
  },
  {
   "cell_type": "code",
   "execution_count": 2,
   "metadata": {
    "ExecuteTime": {
     "end_time": "2020-09-17T15:28:09.603277Z",
     "start_time": "2020-09-17T15:28:09.586190Z"
    },
    "scrolled": true
   },
   "outputs": [
    {
     "data": {
      "text/plain": [
       "Metadata([('simulation_name',\n",
       "           'd15-q1.1-sA_0.266_-0.0234_-0.416_sB_0.027_-0.0595_0.126/Lev5'),\n",
       "          ('alternative_names', 'SXS:BBH:0123'),\n",
       "          ('initial_data_type', 'BBH_CFMS'),\n",
       "          ('object_types', 'BHBH'),\n",
       "          ('number_of_orbits', 16.4621796348),\n",
       "          ('reference_mass_ratio', 1.1004796188799273),\n",
       "          ('reference_chi_eff', -0.15755434271832663),\n",
       "          ('reference_chi1_perp', 0.26619415828746285),\n",
       "          ('reference_chi2_perp', 0.06460212496073088),\n",
       "          ('reference_eccentricity', '<7.2e-05'),\n",
       "          ('reference_dimensionless_spin1',\n",
       "           [0.266756234962, 0.0203147886466, -0.415103367667]),\n",
       "          ('reference_dimensionless_spin2',\n",
       "           [0.037600485, -0.053650766128, 0.12634712782]),\n",
       "          ('reference_orbital_frequency',\n",
       "           [-3.9872660232e-05, -0.00016988370621, 0.0159748747344]),\n",
       "          ('reference_mass1', 0.524041316426),\n",
       "          ('reference_mass2', 0.476193568182),\n",
       "          ('reference_time', 180.0),\n",
       "          ('reference_position1',\n",
       "           [-6.86617129496, 2.00876691285, -0.0113043076212]),\n",
       "          ('reference_position2',\n",
       "           [7.48835793679, -2.18522132462, -0.0200766454997]),\n",
       "          ('reference_mean_anomaly', 3.124065),\n",
       "          ('keywords', ['Precessing-Spins', 'ManyMergers-Random32']),\n",
       "          ('point_of_contact_email', 'mroue@cita.utoronto.ca'),\n",
       "          ('authors_emails',\n",
       "           ['Mike Boyle <boyle@astro.cornell.edu>',\n",
       "            'Dan Hemberger <daniel.hemberger@gmail.com>',\n",
       "            'Larry Kidder  <kidder@astro.cornell.edu>',\n",
       "            'Geoffrey Lovelace <glovelace@fullerton.edu>',\n",
       "            'Abdul Mroue <mroue@cita.utoronto.ca>',\n",
       "            'Harald Pfeiffer <pfeiffer@cita.utoronto.ca>',\n",
       "            'Mark Scheel <scheel@tapir.caltech.edu>',\n",
       "            'Bela Szilagyi <bela@caltech.edu>',\n",
       "            'Nicholas Taylor <nwt2@cornell.edu>',\n",
       "            'Anil Zenginoglu <anil@caltech.edu>']),\n",
       "          ('simulation_bibtex_keys',\n",
       "           ['Mroue:2013xna', 'Boyle:2019kee', 'SXSCatalogWebsite']),\n",
       "          ('code_bibtex_keys',\n",
       "           ['Ossokine:2013zga',\n",
       "            'Hemberger:2012jz',\n",
       "            'Szilagyi:2009qz',\n",
       "            'Boyle:2009vi',\n",
       "            'Scheel:2008rj',\n",
       "            'Boyle:2007ft',\n",
       "            'Scheel:2006gg',\n",
       "            'Lindblom:2005qh',\n",
       "            'Pfeiffer:2002wt',\n",
       "            'SpECwebsite']),\n",
       "          ('initial_data_bibtex_keys',\n",
       "           ['Buchman:2012dw',\n",
       "            'Lovelace:2008tw',\n",
       "            'Pfeiffer:2007yz',\n",
       "            'Caudill:2006hw',\n",
       "            'Cook:2004kt']),\n",
       "          ('quasicircular_bibtex_keys',\n",
       "           ['Mroue:2012kv',\n",
       "            'Buonanno:2010yk',\n",
       "            'Mroue:2010re',\n",
       "            'Boyle:2007ft']),\n",
       "          ('initial_separation', 15.0),\n",
       "          ('initial_orbital_frequency', 0.0158541990364),\n",
       "          ('initial_adot', -5.85085341309e-05),\n",
       "          ('object1', 'bh'),\n",
       "          ('object2', 'bh'),\n",
       "          ('initial_ADM_energy', 0.9929656387750304),\n",
       "          ('initial_ADM_linear_momentum',\n",
       "           [9.51345e-10, 7.240775e-10, -2.40746180934e-05]),\n",
       "          ('initial_ADM_angular_momentum',\n",
       "           [0.0792457201929709, -0.0190274599776593, 1.0249969870433493]),\n",
       "          ('initial_mass1', 0.523809523830852),\n",
       "          ('initial_mass2', 0.476190476273648),\n",
       "          ('initial_dimensionless_spin1',\n",
       "           [0.265999999987, -0.023399999961, -0.41599999998]),\n",
       "          ('initial_dimensionless_spin2',\n",
       "           [0.0270000000093, -0.0595000000155, 0.126000000029]),\n",
       "          ('initial_position1', [7.140836607632183, 0.0059699067005129, 0.0]),\n",
       "          ('initial_position2', [-7.859163392367817, 0.0059699067005129, 0.0]),\n",
       "          ('relaxation_time', 180.0),\n",
       "          ('common_horizon_time', 4365.39365367),\n",
       "          ('remnant_mass', 0.955826374012),\n",
       "          ('remnant_dimensionless_spin',\n",
       "           [0.0485870613722, -0.00260442740925, 0.631965084848]),\n",
       "          ('remnant_velocity',\n",
       "           [-0.00013415203028, 0.00025113351843, 0.00179443394367]),\n",
       "          ('metadata_version', 1),\n",
       "          ('spec_revisions', 'InitialCommit-20659-gdb7a1c7'),\n",
       "          ('spells_revision', 'InitialCommit-21848-g8d8a7d7'),\n",
       "          ('com_parameters',\n",
       "           Metadata([('space_translation',\n",
       "                      [-0.01245591, 0.00560427, -0.00500452]),\n",
       "                     ('boost_velocity',\n",
       "                      [1.05374717e-05, -5.78475217e-06, -1.94870086e-05])])),\n",
       "          ('initial_mass_ratio', 1.0999999998526622),\n",
       "          ('metadata_path',\n",
       "           '/Users/boyle/.sxs/cache/SXS:BBH:0123v4/Lev5/metadata.json')])"
      ]
     },
     "execution_count": 2,
     "metadata": {},
     "output_type": "execute_result"
    }
   ],
   "source": [
    "metadata"
   ]
  },
  {
   "cell_type": "markdown",
   "metadata": {},
   "source": [
    "Some of these fields are more interesting than others.  Presumably, the most interesting ones are the numbers — things like the mass ratio and spins.  You can access them individually just like any `dict`:"
   ]
  },
  {
   "cell_type": "code",
   "execution_count": 3,
   "metadata": {
    "ExecuteTime": {
     "end_time": "2020-09-17T15:28:09.611086Z",
     "start_time": "2020-09-17T15:28:09.606616Z"
    }
   },
   "outputs": [
    {
     "data": {
      "text/plain": [
       "1.1004796188799273"
      ]
     },
     "execution_count": 3,
     "metadata": {},
     "output_type": "execute_result"
    }
   ],
   "source": [
    "metadata[\"reference_mass_ratio\"]"
   ]
  },
  {
   "cell_type": "markdown",
   "metadata": {},
   "source": [
    "Note that we have tab completion.  For example, if you just start with\n",
    "\n",
    "```python\n",
    "metadata[\"reference_m\n",
    "```\n",
    "\n",
    "and then hit tab, you'll see a list of possible completions.  Every key can also be accessed as an attribute:"
   ]
  },
  {
   "cell_type": "code",
   "execution_count": 4,
   "metadata": {
    "ExecuteTime": {
     "end_time": "2020-09-17T15:28:09.618219Z",
     "start_time": "2020-09-17T15:28:09.613509Z"
    }
   },
   "outputs": [
    {
     "data": {
      "text/plain": [
       "1.1004796188799273"
      ]
     },
     "execution_count": 4,
     "metadata": {},
     "output_type": "execute_result"
    }
   ],
   "source": [
    "metadata.reference_mass_ratio"
   ]
  },
  {
   "cell_type": "markdown",
   "metadata": {},
   "source": [
    "This also gives you tab completion.\n",
    "\n",
    "Finally, we also provide some backwards compatibility with the older NRAR metadata format, which called for hyphens to be used where we use underscores:"
   ]
  },
  {
   "cell_type": "code",
   "execution_count": 5,
   "metadata": {
    "ExecuteTime": {
     "end_time": "2020-09-17T15:28:09.627109Z",
     "start_time": "2020-09-17T15:28:09.622057Z"
    }
   },
   "outputs": [
    {
     "data": {
      "text/plain": [
       "1.1004796188799273"
      ]
     },
     "execution_count": 5,
     "metadata": {},
     "output_type": "execute_result"
    }
   ],
   "source": [
    "metadata[\"reference-mass-ratio\"]"
   ]
  },
  {
   "cell_type": "markdown",
   "metadata": {},
   "source": [
    "# Pain points with the metadata\n",
    "\n",
    "One of the issues that has built up over time is the fact that metadata keys are not entirely consistent.  For example, one key:value pair we see above is this:"
   ]
  },
  {
   "cell_type": "code",
   "execution_count": 6,
   "metadata": {
    "ExecuteTime": {
     "end_time": "2020-09-17T15:28:09.633039Z",
     "start_time": "2020-09-17T15:28:09.628765Z"
    }
   },
   "outputs": [
    {
     "data": {
      "text/plain": [
       "'<7.2e-05'"
      ]
     },
     "execution_count": 6,
     "metadata": {},
     "output_type": "execute_result"
    }
   ],
   "source": [
    "metadata[\"reference_eccentricity\"]"
   ]
  },
  {
   "cell_type": "markdown",
   "metadata": {},
   "source": [
    "We might have expected to get a number out of this, but we got a string.  This is because the eccentricity fitting function can't always find a very exact value, and only returns an upper bound.  So if you're sorting through lots of different metadata files, looking for eccentricities — let's say — above 0.1, you might have a line that says\n",
    "\n",
    "```python\n",
    "if metadata[\"reference_eccentricity\"] > 0.1:\n",
    "    do_something()\n",
    "```\n",
    "\n",
    "Unfortunately, once you get to this particular metadata file, that test will raise an error:"
   ]
  },
  {
   "cell_type": "code",
   "execution_count": 7,
   "metadata": {
    "ExecuteTime": {
     "end_time": "2020-09-17T15:28:09.972770Z",
     "start_time": "2020-09-17T15:28:09.636533Z"
    }
   },
   "outputs": [
    {
     "ename": "TypeError",
     "evalue": "'>' not supported between instances of 'str' and 'float'",
     "output_type": "error",
     "traceback": [
      "\u001b[0;31m---------------------------------------------------------------------------\u001b[0m",
      "\u001b[0;31mTypeError\u001b[0m                                 Traceback (most recent call last)",
      "\u001b[0;32m<ipython-input-7-4ba16a2155da>\u001b[0m in \u001b[0;36m<module>\u001b[0;34m\u001b[0m\n\u001b[0;32m----> 1\u001b[0;31m \u001b[0mmetadata\u001b[0m\u001b[0;34m[\u001b[0m\u001b[0;34m\"reference_eccentricity\"\u001b[0m\u001b[0;34m]\u001b[0m \u001b[0;34m>\u001b[0m \u001b[0;36m0.1\u001b[0m\u001b[0;34m\u001b[0m\u001b[0;34m\u001b[0m\u001b[0m\n\u001b[0m",
      "\u001b[0;31mTypeError\u001b[0m: '>' not supported between instances of 'str' and 'float'"
     ]
    }
   ],
   "source": [
    "metadata[\"reference_eccentricity\"] > 0.1"
   ]
  },
  {
   "cell_type": "markdown",
   "metadata": {},
   "source": [
    "There are also many datasets where values are missing.  For example, many of these keys make no sense for simulations with matter (BHNS and NSNS); similarly many critical pieces of information in matter simulations are irrelevant for BBH simulations."
   ]
  },
  {
   "cell_type": "markdown",
   "metadata": {},
   "source": [
    "# Pain reliever\n",
    "\n",
    "The idea behind these metadata objects is that they should serve as the official records of what was written at the time the simulation was run.  We don't want to be too clever above fixing the pain points, because we might incorrectly change some critical piece of information.\n",
    "\n",
    "*However*, if you are willing to trade the possibility that this will replace data that you could make sense of with NaNs, for the sake of consistency, then the `catalog` provides a more uniform interface to all the metadata collected in one place, in the form of `catalog.table`."
   ]
  },
  {
   "cell_type": "markdown",
   "metadata": {},
   "source": [
    "Continue with the [introduction to the catalog](02-Catalog.ipynb).\n"
   ]
  }
 ],
 "metadata": {
  "kernelspec": {
   "display_name": "conda sxs",
   "language": "python",
   "name": "conda-env-notebook-py"
  },
  "language_info": {
   "codemirror_mode": {
    "name": "ipython",
    "version": 3
   },
   "file_extension": ".py",
   "mimetype": "text/x-python",
   "name": "python",
   "nbconvert_exporter": "python",
   "pygments_lexer": "ipython3",
   "version": "3.8.5"
  }
 },
 "nbformat": 4,
 "nbformat_minor": 4
}
