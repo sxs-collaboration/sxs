{
 "cells": [
  {
   "cell_type": "markdown",
   "metadata": {},
   "source": [
    "# Simulation\n",
    "\n",
    "Each simulation is encapsulated as an object that is responsible for\n",
    "finding the location of each dataset in the simulation, loading it —\n",
    "which may involve downloading and caching the relevant file — and\n",
    "returning an object that can be used to access that piece of data.\n"
   ]
  },
  {
   "cell_type": "markdown",
   "metadata": {},
   "source": [
    "## Location\n",
    "\n",
    "We begin by simply loading the simulation.  There are one required and\n",
    "two optional pieces of information needed to identify a simulation:\n",
    "\n",
    "  1. SXS ID\n",
    "\n",
    "     This identifies the simulation type and includes a number.  For\n",
    "     example, \"SXS:BBH:0001\", which identifies this simulation as a\n",
    "     product of the SXS collaboration, specifies that it is a binary\n",
    "     black hole simulation, and that it has been assigned the number\n",
    "     \"0001\" in that series.  Note that these numbers are not\n",
    "     necessarily sequential.  Nor do they necessarily correspond to\n",
    "     the relative age of the simulation; that information is contained\n",
    "     in the metadata itself in the various `date_*` keys.\n",
    "\n",
    "  2. Version\n",
    "     \n",
    "     This identifies the version of the data — like \"v3.0\".  Unlike\n",
    "     the SXS ID, this is an optional specifier.  If not provided, the\n",
    "     most recent version is used.  All versions refer to the same\n",
    "     underlying simulation, but the raw data may have been processed\n",
    "     differently, may be provided in incompatible formats, etc.  For\n",
    "     exploratory work, it is often convenient to simply use the most\n",
    "     recent version.  However, for reproducibility, it is important to\n",
    "     specify the version of the data you use for a given analysis.\n",
    "\n",
    "   3. Lev (resolution)\n",
    "      \n",
    "      This identifies the resolution of the simulation — like \"Lev5\".\n",
    "      This is also optional.  If not provided, the highest resolution\n",
    "      is used.  Note that there is no consistency in the \"Lev\"s\n",
    "      provided for different simulations, nor is there necessarily\n",
    "      even consistency in the meaning of the \"Lev\" between different\n",
    "      simulations (they are not always directly comparable).  Again,\n",
    "      for reproducibility, it is important to specify the resolution\n",
    "      of the data you use for a given analysis.\n",
    "\n",
    "These three pieces of information may be combined into a single string as in\n",
    "any of the following examples of valid inputs:\n",
    "\n",
    "    SXS:BBH:0001\n",
    "    SXS:BBH:0001v2.0\n",
    "    SXS:BBH:0001/Lev5\n",
    "    SXS:BBH:0001v2.0/Lev5\n",
    "\n",
    "The full specification including ID, version, and Lev is called the\n",
    "\"location\", but any of these can be provided to load the simulation:\n",
    "\n",
    "```python\n",
    "sxs.load(\"SXS:BBH:0001\")\n",
    "sxs.load(\"SXS:BBH:0001v2.0\")\n",
    "sxs.load(\"SXS:BBH:0001/Lev5\")\n",
    "sxs.load(\"SXS:BBH:0001v2.0/Lev5\")\n",
    "```"
   ]
  },
  {
   "cell_type": "markdown",
   "metadata": {},
   "source": [
    "## Deprecated or superseded\n",
    "\n",
    "Many simulations are now quite old, and do not have the benefit of\n",
    "years of refinements to the simulation code.  As a result, the SXS\n",
    "collaboration has deprecated many of them, and replaced them with\n",
    "newer simulations of (nearly) the same physical parameters.\n",
    "\n",
    "By default, a deprecated simulation raise an error if you attempt to\n",
    "load it.  However, you can still load it if you want to, by choosing\n",
    "one of the following options:\n",
    "\n",
    "  1. Pass `ignore_deprecation=True` to load the latest available\n",
    "     version.  This completely bypasses even checking for deprecation or\n",
    "     supersession.  No warnings or errors will be issued.\n",
    "  2. Manually choose a different simulation from the catalog.\n",
    "  3. Pass `auto_supersede=0.01` to load a match \"closer\" than 0.01 in\n",
    "     the catalog if one exists; and error otherwise.  Here,\n",
    "     \"closeness\" is measured in terms of a simplistic metric on the\n",
    "     metadata — specifically the basic information like masses, spins,\n",
    "     and eccentricity measured at the reference time.  This is\n",
    "     imperfect, because it ignores the evolution of these quantities,\n",
    "     which may differ for different simulations even when they\n",
    "     represent the same physical system.\n",
    "  4. Pass `auto_supersede=True` to load the \"closest\" match in the\n",
    "     catalog, even if it is quite \"far\" away.\n",
    "  5. Include the version number, as in 'SXS:BBH:0001v2.0', to load a\n",
    "     specific version.  A warning will be issued that the simulation is\n",
    "     deprecated, but it will be loaded anyway.\n",
    "\n",
    "In this case, \"SXS:BBH:0001\" is deprecated, and has been superseded by\n",
    "the newer simulation \"SXS:BBH:1132\".  We can automatically load the\n",
    "superseding simulation with"
   ]
  },
  {
   "cell_type": "code",
   "execution_count": 1,
   "metadata": {},
   "outputs": [
    {
     "name": "stdout",
     "output_type": "stream",
     "text": [
      "Loading SXS simulations using latest tag 'v3.0.0a10', published at 2025-04-23T15:08:30Z.\n"
     ]
    },
    {
     "name": "stderr",
     "output_type": "stream",
     "text": [
      "/Users/boyle/.continuum/current/envs/science/lib/python3.12/site-packages/sxs/simulations/simulation.py:236: UserWarning: \n",
      "Simulation 'SXS:BBH:0001v2.0' is being automatically superseded by 'SXS:BBH:1132'.\n",
      "The distance between them in the given metadata metric is 3.33e-07.\n",
      "  warn(message)\n"
     ]
    }
   ],
   "source": [
    "import sxs\n",
    "\n",
    "sim = sxs.load(\"SXS:BBH:0001\", auto_supersede=True)"
   ]
  },
  {
   "cell_type": "markdown",
   "metadata": {},
   "source": [
    "Note that, because we did not load a tagged version of the simulations\n",
    "catalog [with, e.g., `sxs.load(\"dataframe\", tag=\"3.0.0\")`] before\n",
    "loading the waveform, `sxs` just found the most recent tag and loaded\n",
    "that version of the catalog, then used the information there to find\n",
    "which simulation to automatically supersede with.\n",
    "\n",
    "We can see that, even though we requested \"SXS:BBH:0001\", the location\n",
    "of the output simulation object is \"SXS:BBH:1132\".  A warning is\n",
    "printed, even though we asked for the superseding simulation, so that\n",
    "it is clear which  simulation we are actually using, though we can\n",
    "also access this programmatically:"
   ]
  },
  {
   "cell_type": "code",
   "execution_count": 2,
   "metadata": {},
   "outputs": [
    {
     "data": {
      "text/plain": [
       "'SXS:BBH:1132v3.0/Lev4'"
      ]
     },
     "execution_count": 2,
     "metadata": {},
     "output_type": "execute_result"
    }
   ],
   "source": [
    "sim.location"
   ]
  },
  {
   "cell_type": "markdown",
   "metadata": {},
   "source": [
    "Note that the version \"v3.0\" and \"Lev4\" were automatically chosen as the highest values, respectively."
   ]
  },
  {
   "cell_type": "markdown",
   "metadata": {},
   "source": [
    "## Metadata\n",
    "\n",
    "Having loaded the simulation, the only thing loaded so far is the\n",
    "metadata about the simulation.  This is encapsulated in the `metadata`\n",
    "attribute of the simulation object.  This is a dictionary-like object\n",
    "that contains all of the metadata about the simulation, including the\n",
    "SXS ID, version, and Lev, as well as the masses and spins of the black\n",
    "holes, the reference time, and other important information, such as\n",
    "where to find the various types of data for this simulation.  These\n",
    "fields are described in detail in [the most recent SXS catalog\n",
    "paper](https://doi.org/10.26138/sxscatalog3), and are used in\n",
    "constructing the catalog dataframe described on [the previous\n",
    "page](/tutorials/01-Catalog_Dataframe).\n",
    "\n",
    "We can see its contents here:"
   ]
  },
  {
   "cell_type": "code",
   "execution_count": 3,
   "metadata": {},
   "outputs": [
    {
     "data": {
      "text/plain": [
       "Metadata([('simulation_name', 'BBH_SKS_d23.1_q1_sA_0_0_0_sB_0_0_0/Lev4'),\n",
       "          ('keywords', []),\n",
       "          ('alternative_names', ['PRIVATE:BBH:0143', 'SXS:BBH:1132']),\n",
       "          ('metadata_format_revision', 2),\n",
       "          ('metadata_content_revision', 1),\n",
       "          ('internal_minor_version', 0),\n",
       "          ('internal_changelog', {}),\n",
       "          ('citation_dois', ['10.1088/1361-6382/ab34e2']),\n",
       "          ('initial_separation', 23.12716512),\n",
       "          ('initial_orbital_frequency', 0.00851783),\n",
       "          ('initial_adot', -4.675904e-06),\n",
       "          ('initial_ADM_energy', 0.994987997679003),\n",
       "          ('initial_ADM_linear_momentum',\n",
       "           [-2.156564e-10, 3.97011e-10, 4.51632e-11]),\n",
       "          ('initial_ADM_angular_momentum',\n",
       "           [3.54751846e-08, 1.445901368e-07, 1.3091640743018833]),\n",
       "          ('initial_dimensionless_spin1',\n",
       "           [1.2758e-12, -3.8937e-12, -6.57154e-10]),\n",
       "          ('initial_dimensionless_spin2',\n",
       "           [-3.554e-13, 9.477e-13, -3.283941e-10]),\n",
       "          ('initial_data_type', 'BBH_SKS'),\n",
       "          ('initial_mass1', 0.4999999855169243),\n",
       "          ('initial_mass2', 0.4999999855057323),\n",
       "          ('object1', 'bh'),\n",
       "          ('object2', 'bh'),\n",
       "          ('initial_position1', [11.563582584517457, 3.69708105e-08, 0.0]),\n",
       "          ('initial_position2', [-11.563582535482544, 3.69708105e-08, 0.0]),\n",
       "          ('t_relaxed_algorithm',\n",
       "           {'algorithm': 'RMS', 'reason': 'SmallTJunk'}),\n",
       "          ('relaxation_time', 170.0),\n",
       "          ('reference_time', 170.0),\n",
       "          ('reference_dimensionless_spin1',\n",
       "           [1.1730355045230556e-10,\n",
       "            -3.3723474601082626e-10,\n",
       "            -1.1349397619762191e-07]),\n",
       "          ('reference_mass1', 0.5000000336269459),\n",
       "          ('reference_dimensionless_spin2',\n",
       "           [-7.340680125141453e-11,\n",
       "            2.2316822624244634e-10,\n",
       "            -1.1371062991019911e-07]),\n",
       "          ('reference_mass2', 0.5000000335880593),\n",
       "          ('reference_position1',\n",
       "           [1.447091488492068, 11.650624665246074, 2.621942143450669e-09]),\n",
       "          ('reference_position2',\n",
       "           [-1.447091547338091, -11.650624523323035, 2.4672241341874733e-09]),\n",
       "          ('reference_orbital_frequency',\n",
       "           [-7.129406006201152e-15,\n",
       "            -5.581743807566877e-14,\n",
       "            0.00853972880002455]),\n",
       "          ('common_horizon_time', 25474.41047033414),\n",
       "          ('number_of_orbits_from_start', 53.41547707495209),\n",
       "          ('number_of_orbits_from_reference_time', 53.18536243923161),\n",
       "          ('reference_eccentricity', 2.7e-05),\n",
       "          ('reference_mean_anomaly', 1.010533),\n",
       "          ('remnant_mass', 0.951608906492193),\n",
       "          ('remnant_dimensionless_spin',\n",
       "           [-3.1265099981564997e-12,\n",
       "            -2.4461331610839638e-11,\n",
       "            0.6864342921339575]),\n",
       "          ('remnant_velocity',\n",
       "           [-3.4023240606177755e-09,\n",
       "            -8.28900285473014e-10,\n",
       "            1.427625994038291e-08]),\n",
       "          ('spec_revisions', ['InitialCommit-26573-g5935362']),\n",
       "          ('spells_revision', '593536299f649bb020ee4fa66645853abf050cb3'),\n",
       "          ('date_run_earliest', '2014-07-23T17:10:24'),\n",
       "          ('date_run_latest', '2014-10-08T11:34:36'),\n",
       "          ('date_link_earliest', '2014-07-21T17:37:37-07:00'),\n",
       "          ('date_postprocessing', '2025-01-27T19:42:35.265745-08:00'),\n",
       "          ('pbj_info',\n",
       "           {'base_lev': 'Lev4',\n",
       "            'transition_time': 0.0,\n",
       "            'base_lev_bitwise_identical': 'true'}),\n",
       "          ('job_archiver_email', 'glovelace@fullerton.edu'),\n",
       "          ('postprocess_revision', 1),\n",
       "          ('number_of_orbits', 53.41547707495209),\n",
       "          ('object_types', 'BHBH'),\n",
       "          ('initial_mass_ratio', 1.000000000022384),\n",
       "          ('reference_mass_ratio', 1.0000000000777731),\n",
       "          ('reference_chi_eff', -1.1360230305390596e-07),\n",
       "          ('reference_chi1_perp', 3.570537737425681e-10),\n",
       "          ('reference_chi2_perp', 2.3493108639847596e-10),\n",
       "          ('lev_numbers', [-1, 0, 1, 2, 3, 4]),\n",
       "          ('directory',\n",
       "           'Public/No_BFI/Misc/BBH_SKS_d23.1_q1_sA_0_0_0_sB_0_0_0'),\n",
       "          ('mtime', '2025-02-18T22:39:53.721928+00:00'),\n",
       "          ('files',\n",
       "           {'Lev4:Strain_N2.json': {'checksum': 'md5:1020f262b0af290df6cf2df4752dac68',\n",
       "             'size': 2227,\n",
       "             'link': 'https://data.caltech.edu/api/records/m963g-9ma21/files/Lev4%3AStrain_N2.json/content'},\n",
       "            'Lev3:Strain_N2.h5': {'checksum': 'md5:63daf18dcda060a4530b80db36890388',\n",
       "             'size': 3084901,\n",
       "             'link': 'https://data.caltech.edu/api/records/m963g-9ma21/files/Lev3%3AStrain_N2.h5/content'},\n",
       "            'Lev3:Strain_N2.json': {'checksum': 'md5:a6f965e84dcf1a3d3fb558382a85740c',\n",
       "             'size': 2231,\n",
       "             'link': 'https://data.caltech.edu/api/records/m963g-9ma21/files/Lev3%3AStrain_N2.json/content'},\n",
       "            'Lev4:ExtraWaveforms.h5': {'checksum': 'md5:b953095ed7f79cc98e09cc343b9c89a8',\n",
       "             'size': 27377504,\n",
       "             'link': 'https://data.caltech.edu/api/records/m963g-9ma21/files/Lev4%3AExtraWaveforms.h5/content'},\n",
       "            'Lev4:ExtraWaveforms.json': {'checksum': 'md5:5214a5fe40a893b9444d22b4daa288d7',\n",
       "             'size': 17428,\n",
       "             'link': 'https://data.caltech.edu/api/records/m963g-9ma21/files/Lev4%3AExtraWaveforms.json/content'},\n",
       "            'Lev4:Horizons.h5': {'checksum': 'md5:087ec029d2275a6e6ce43b6681a8ad3c',\n",
       "             'size': 8030172,\n",
       "             'link': 'https://data.caltech.edu/api/records/m963g-9ma21/files/Lev4%3AHorizons.h5/content'},\n",
       "            'Lev4:metadata.json': {'checksum': 'md5:cca29db318f2e49c67e98bc9fbd158c3',\n",
       "             'size': 3346,\n",
       "             'link': 'https://data.caltech.edu/api/records/m963g-9ma21/files/Lev4%3Ametadata.json/content'},\n",
       "            'Lev1:Strain_N2.json': {'checksum': 'md5:e2a19ccab79a74f1443a898efd60cd52',\n",
       "             'size': 2230,\n",
       "             'link': 'https://data.caltech.edu/api/records/m963g-9ma21/files/Lev1%3AStrain_N2.json/content'},\n",
       "            'Lev-1:ExtraWaveforms.h5': {'checksum': 'md5:83bf398ede3960e2a3eac6ebe82b9139',\n",
       "             'size': 34081902,\n",
       "             'link': 'https://data.caltech.edu/api/records/m963g-9ma21/files/Lev-1%3AExtraWaveforms.h5/content'},\n",
       "            'Lev-1:ExtraWaveforms.json': {'checksum': 'md5:a24f5d915a093a60675c7f93ea1ea6fe',\n",
       "             'size': 17449,\n",
       "             'link': 'https://data.caltech.edu/api/records/m963g-9ma21/files/Lev-1%3AExtraWaveforms.json/content'},\n",
       "            'Lev2:ExtraWaveforms.h5': {'checksum': 'md5:3dff3e3ec96c3dd4f5847c1f1e38937f',\n",
       "             'size': 28433541,\n",
       "             'link': 'https://data.caltech.edu/api/records/m963g-9ma21/files/Lev2%3AExtraWaveforms.h5/content'},\n",
       "            'Lev-1:Horizons.h5': {'checksum': 'md5:174db3cf67d9a6e56bf7ed31adf6c4cc',\n",
       "             'size': 8084479,\n",
       "             'link': 'https://data.caltech.edu/api/records/m963g-9ma21/files/Lev-1%3AHorizons.h5/content'},\n",
       "            'Lev-1:metadata.json': {'checksum': 'md5:de69e0fe435d1f3186e18f15a4225a58',\n",
       "             'size': 3363,\n",
       "             'link': 'https://data.caltech.edu/api/records/m963g-9ma21/files/Lev-1%3Ametadata.json/content'},\n",
       "            'Lev2:ExtraWaveforms.json': {'checksum': 'md5:347b7451eb725abdac327e6a90aa9205',\n",
       "             'size': 17456,\n",
       "             'link': 'https://data.caltech.edu/api/records/m963g-9ma21/files/Lev2%3AExtraWaveforms.json/content'},\n",
       "            'Lev-1:Strain_N2.h5': {'checksum': 'md5:33d8529c2b86e0bc56943a311bd3be4e',\n",
       "             'size': 3403539,\n",
       "             'link': 'https://data.caltech.edu/api/records/m963g-9ma21/files/Lev-1%3AStrain_N2.h5/content'},\n",
       "            'Lev-1:Strain_N2.json': {'checksum': 'md5:35f70f052993549f51d7a02f96d830a7',\n",
       "             'size': 2230,\n",
       "             'link': 'https://data.caltech.edu/api/records/m963g-9ma21/files/Lev-1%3AStrain_N2.json/content'},\n",
       "            'Lev2:Horizons.h5': {'checksum': 'md5:db3e51078fdcf2b742507ea022c0ee39',\n",
       "             'size': 8006313,\n",
       "             'link': 'https://data.caltech.edu/api/records/m963g-9ma21/files/Lev2%3AHorizons.h5/content'},\n",
       "            'Lev0:ExtraWaveforms.h5': {'checksum': 'md5:ffcac5fd5f2d96eac3fc813248ef7d5b',\n",
       "             'size': 30858934,\n",
       "             'link': 'https://data.caltech.edu/api/records/m963g-9ma21/files/Lev0%3AExtraWaveforms.h5/content'},\n",
       "            'Lev0:ExtraWaveforms.json': {'checksum': 'md5:ba172233a0e640fd63a3de76dd745b17',\n",
       "             'size': 17449,\n",
       "             'link': 'https://data.caltech.edu/api/records/m963g-9ma21/files/Lev0%3AExtraWaveforms.json/content'},\n",
       "            'Lev0:Horizons.h5': {'checksum': 'md5:0b97f2842eda185695e7f4f7b30db770',\n",
       "             'size': 7770322,\n",
       "             'link': 'https://data.caltech.edu/api/records/m963g-9ma21/files/Lev0%3AHorizons.h5/content'},\n",
       "            'Lev0:metadata.json': {'checksum': 'md5:0dcab3a0b554ede2b68ad5925c6791a9',\n",
       "             'size': 3353,\n",
       "             'link': 'https://data.caltech.edu/api/records/m963g-9ma21/files/Lev0%3Ametadata.json/content'},\n",
       "            'Lev0:Strain_N2.h5': {'checksum': 'md5:0fbe2605e7b2df2c1762ce670da2f407',\n",
       "             'size': 2992484,\n",
       "             'link': 'https://data.caltech.edu/api/records/m963g-9ma21/files/Lev0%3AStrain_N2.h5/content'},\n",
       "            'Lev0:Strain_N2.json': {'checksum': 'md5:6ca3802c600ff01c69fa7b036fa74f75',\n",
       "             'size': 2230,\n",
       "             'link': 'https://data.caltech.edu/api/records/m963g-9ma21/files/Lev0%3AStrain_N2.json/content'},\n",
       "            'Lev2:metadata.json': {'checksum': 'md5:792c47f41857482167f8abe94e38d05d',\n",
       "             'size': 3339,\n",
       "             'link': 'https://data.caltech.edu/api/records/m963g-9ma21/files/Lev2%3Ametadata.json/content'},\n",
       "            'Lev1:ExtraWaveforms.h5': {'checksum': 'md5:0a08107de3556898aa15827dc3e24479',\n",
       "             'size': 28171157,\n",
       "             'link': 'https://data.caltech.edu/api/records/m963g-9ma21/files/Lev1%3AExtraWaveforms.h5/content'},\n",
       "            'Lev1:ExtraWaveforms.json': {'checksum': 'md5:a93a3e31ed697be008df1c728d54d704',\n",
       "             'size': 17449,\n",
       "             'link': 'https://data.caltech.edu/api/records/m963g-9ma21/files/Lev1%3AExtraWaveforms.json/content'},\n",
       "            'Lev2:Strain_N2.h5': {'checksum': 'md5:15b545c82452fae57012202528152640',\n",
       "             'size': 2692410,\n",
       "             'link': 'https://data.caltech.edu/api/records/m963g-9ma21/files/Lev2%3AStrain_N2.h5/content'},\n",
       "            'Lev4:Strain_N2.h5': {'checksum': 'md5:5e40c8e74ef0ea6df0cccdbc30a404b1',\n",
       "             'size': 2650416,\n",
       "             'link': 'https://data.caltech.edu/api/records/m963g-9ma21/files/Lev4%3AStrain_N2.h5/content'},\n",
       "            'Lev1:Horizons.h5': {'checksum': 'md5:9e7d5e58cc782fe826b65551a8ed4924',\n",
       "             'size': 7921259,\n",
       "             'link': 'https://data.caltech.edu/api/records/m963g-9ma21/files/Lev1%3AHorizons.h5/content'},\n",
       "            'Lev3:Horizons.h5': {'checksum': 'md5:ff0730fc423375e75c2f5290a6dbdc3f',\n",
       "             'size': 7941997,\n",
       "             'link': 'https://data.caltech.edu/api/records/m963g-9ma21/files/Lev3%3AHorizons.h5/content'},\n",
       "            'Lev1:metadata.json': {'checksum': 'md5:12dc2b562c1ffd37a9db6b2df16078a4',\n",
       "             'size': 3355,\n",
       "             'link': 'https://data.caltech.edu/api/records/m963g-9ma21/files/Lev1%3Ametadata.json/content'},\n",
       "            'Lev2:Strain_N2.json': {'checksum': 'md5:94162f9b584cc478a59602d64b7f658c',\n",
       "             'size': 2231,\n",
       "             'link': 'https://data.caltech.edu/api/records/m963g-9ma21/files/Lev2%3AStrain_N2.json/content'},\n",
       "            'Lev1:Strain_N2.h5': {'checksum': 'md5:fb0d6dc8189538edee3609d1bb70abd3',\n",
       "             'size': 2736289,\n",
       "             'link': 'https://data.caltech.edu/api/records/m963g-9ma21/files/Lev1%3AStrain_N2.h5/content'},\n",
       "            'Lev3:ExtraWaveforms.h5': {'checksum': 'md5:0afbc2ceb9a196e517eace83831c9924',\n",
       "             'size': 30418704,\n",
       "             'link': 'https://data.caltech.edu/api/records/m963g-9ma21/files/Lev3%3AExtraWaveforms.h5/content'},\n",
       "            'Lev3:metadata.json': {'checksum': 'md5:6713a5d71ffcd2e6796ebc33ef6c19e5',\n",
       "             'size': 3354,\n",
       "             'link': 'https://data.caltech.edu/api/records/m963g-9ma21/files/Lev3%3Ametadata.json/content'},\n",
       "            'Lev3:ExtraWaveforms.json': {'checksum': 'md5:eb38fcf50f53e613ba09074580816298',\n",
       "             'size': 17456,\n",
       "             'link': 'https://data.caltech.edu/api/records/m963g-9ma21/files/Lev3%3AExtraWaveforms.json/content'}}),\n",
       "          ('DOI_versions',\n",
       "           ['', 'v1.2', 'v1.3', 'v1.4', 'v1.5', 'v2.0', 'v3.0'])])"
      ]
     },
     "execution_count": 3,
     "metadata": {},
     "output_type": "execute_result"
    }
   ],
   "source": [
    "sim.metadata"
   ]
  },
  {
   "cell_type": "markdown",
   "metadata": {},
   "source": [
    "However, one important point to note about the metadata is that it is\n",
    "not always in a format we might expect.  For example, the\n",
    "`reference_eccentricity` field will often be a string like\n",
    "`\"<7.2e-05\"`, which makes it awkward to compute with.  These sorts of\n",
    "issues are avoided with the `dataframe` interface described on the\n",
    "previous page by forcing fields to have consistent types."
   ]
  },
  {
   "cell_type": "markdown",
   "metadata": {},
   "source": [
    "We can extract the metadata for this one simulation in a format consistent with other simulations as a `pandas.Series` object with the attribute `sim.series`.  (Here, we'll use `pandas` explicitly to display the series with a little more detail.)"
   ]
  },
  {
   "cell_type": "code",
   "execution_count": 4,
   "metadata": {},
   "outputs": [
    {
     "data": {
      "text/plain": [
       "deprecated                                                                      False\n",
       "reference_mass_ratio                                                              1.0\n",
       "reference_chi_eff                                                                -0.0\n",
       "reference_chi1_perp                                                               0.0\n",
       "reference_chi2_perp                                                               0.0\n",
       "reference_eccentricity                                                       0.000027\n",
       "reference_eccentricity_bound                                                 0.000027\n",
       "reference_time                                                                  170.0\n",
       "reference_dimensionless_spin1_x                                                   0.0\n",
       "reference_dimensionless_spin1_y                                                  -0.0\n",
       "reference_dimensionless_spin1_z                                                  -0.0\n",
       "reference_dimensionless_spin1_mag                                                 0.0\n",
       "reference_dimensionless_spin1           [1.1730355045230556e-10, -3.37234746010826...\n",
       "reference_dimensionless_spin2_x                                                  -0.0\n",
       "reference_dimensionless_spin2_y                                                   0.0\n",
       "                                                            ...                      \n",
       "initial_dimensionless_spin2_y                                                     0.0\n",
       "initial_dimensionless_spin2_z                                                    -0.0\n",
       "initial_dimensionless_spin2_mag                                                   0.0\n",
       "initial_dimensionless_spin2                    [-3.554e-13, 9.477e-13, -3.283941e-10]\n",
       "initial_position1                           [11.563582584517457, 3.69708105e-08, 0.0]\n",
       "initial_position2                          [-11.563582535482544, 3.69708105e-08, 0.0]\n",
       "number_of_orbits                                                            53.415477\n",
       "number_of_orbits_from_start                                                 53.415477\n",
       "number_of_orbits_from_reference_time                                        53.185362\n",
       "DOI_versions                                   [, v1.2, v1.3, v1.4, v1.5, v2.0, v3.0]\n",
       "keywords                                                                           []\n",
       "date_link_earliest                                                2014-07-22 00:37:37\n",
       "date_run_earliest                                                 2014-07-23 17:10:24\n",
       "date_run_latest                                                   2014-10-08 11:34:36\n",
       "date_postprocessing                                        2025-01-28 03:42:35.265745\n",
       "Name: SXS:BBH:1132, Length: 87, dtype: object"
      ]
     },
     "metadata": {},
     "output_type": "display_data"
    }
   ],
   "source": [
    "import pandas as pd\n",
    "with pd.option_context(\"max_colwidth\", 46, \"display.min_rows\", 30):\n",
    "    display(sim.series)"
   ]
  },
  {
   "cell_type": "markdown",
   "metadata": {},
   "source": [
    "Various relevant pieces of information about the simulation are also\n",
    "available as attributes of the simulation object.  For example, we may\n",
    "wish to know which versions are available:"
   ]
  },
  {
   "cell_type": "code",
   "execution_count": 5,
   "metadata": {},
   "outputs": [
    {
     "data": {
      "text/plain": [
       "['', 'v1.2', 'v1.3', 'v1.4', 'v1.5', 'v2.0', 'v3.0']"
      ]
     },
     "execution_count": 5,
     "metadata": {},
     "output_type": "execute_result"
    }
   ],
   "source": [
    "sim.versions"
   ]
  },
  {
   "cell_type": "markdown",
   "metadata": {},
   "source": [
    "In this case, the generic version, `''`, as well as multiple older\n",
    "versions from the first ('v1.x'), second ('v2.0'), and latest ('v3.0')\n",
    "versions of the catalog are available, because SXS:BBH:1132 is a\n",
    "fairly old simulation.\n",
    "\n",
    "These versions track modifications to the files representing the data\n",
    "and — together with the SXS ID — establish the unique identifier for\n",
    "the data set.  This unique identifier is also published as a DOI.  The\n",
    "DOI prefix for SXS data is 10.26138, and the full DOI for any\n",
    "simulation is given by combining these:"
   ]
  },
  {
   "cell_type": "code",
   "execution_count": 6,
   "metadata": {},
   "outputs": [
    {
     "data": {
      "text/plain": [
       "'https://doi.org/10.26138/SXS:BBH:1132v3.0'"
      ]
     },
     "execution_count": 6,
     "metadata": {},
     "output_type": "execute_result"
    }
   ],
   "source": [
    "sim.url"
   ]
  },
  {
   "cell_type": "markdown",
   "metadata": {},
   "source": [
    "These DOIs are permanent and can be used to refer to the data in\n",
    "publications, in the same way that DOIs for journal articles are used.\n",
    "They point to deposits of the data in the Zenodo or CaltechDATA\n",
    "repository, which are long-term, open-access archives.  This is also\n",
    "where the data are automatically obtained when you load a particular\n",
    "data set for the first time."
   ]
  },
  {
   "cell_type": "markdown",
   "metadata": {},
   "source": [
    "## Data\n",
    "\n",
    "Besides the metadata, the remaining data sets are loaded lazily.  This\n",
    "means that we can access the data as needed, but the cost in time and\n",
    "resources is not paid unless and until the data is actually accessed.\n",
    "Specifically, the time to download the data if needed, the disk space\n",
    "required to cache it if desired, the time to load the data from disk,\n",
    "and the memory required to store it are all deferred to the point of\n",
    "use.\n",
    "\n",
    "For example, we can access data describing the horizons as"
   ]
  },
  {
   "cell_type": "code",
   "execution_count": 7,
   "metadata": {},
   "outputs": [
    {
     "data": {
      "text/plain": [
       "<sxs.horizons.Horizons at 0x145a2f110>"
      ]
     },
     "execution_count": 7,
     "metadata": {},
     "output_type": "execute_result"
    }
   ],
   "source": [
    "sim.horizons"
   ]
  },
  {
   "cell_type": "markdown",
   "metadata": {},
   "source": [
    "And data describing the waveform as"
   ]
  },
  {
   "cell_type": "code",
   "execution_count": 8,
   "metadata": {},
   "outputs": [
    {
     "data": {
      "text/plain": [
       "WaveformModes([[-3.84045085e-02-5.89198155e-03j, -5.77778752e-08+5.89152049e-07j,\n",
       "        -2.04127826e-03-7.59793532e-09j, ...,\n",
       "        -1.69433081e-05+1.02668263e-04j, -5.52232115e-09+3.01949886e-08j,\n",
       "        -1.36598721e-07-1.89939464e-04j],\n",
       "       [-4.08725041e-02-6.17793871e-03j, -1.12721753e-07+1.22522360e-06j,\n",
       "        -2.61140490e-03+2.24617634e-08j, ...,\n",
       "         1.58363235e-04-1.07098592e-04j,  1.88905886e-08+8.79536268e-09j,\n",
       "        -2.16597212e-04+1.81872383e-04j],\n",
       "       [-4.41104676e-02-6.91220296e-03j,  6.66523849e-08+4.93630433e-07j,\n",
       "        -2.35699925e-03+3.70045888e-08j, ...,\n",
       "         1.61960978e-04-2.16341762e-04j, -2.32333702e-08-9.77603142e-08j,\n",
       "        -1.86282822e-04+3.95645415e-04j],\n",
       "       ...,\n",
       "       [-1.34434621e-04-2.50412266e-04j,  2.01020405e-10-1.69444925e-10j,\n",
       "         8.78545565e-02+3.45608094e-11j, ...,\n",
       "         1.69202525e-07+2.06979377e-08j, -6.86001843e-11+5.93489900e-11j,\n",
       "         8.13201650e-07-8.93233959e-08j],\n",
       "       [-1.34415470e-04-2.50381871e-04j,  2.00183632e-10-1.69581744e-10j,\n",
       "         8.78545432e-02+3.45608094e-11j, ...,\n",
       "         1.68807536e-07+2.04880956e-08j, -6.74600154e-11+5.88283689e-11j,\n",
       "         8.20193040e-07-8.53407431e-08j],\n",
       "       [-1.34398286e-04-2.50352600e-04j,  2.00935881e-10-1.70606621e-10j,\n",
       "         8.78545297e-02+3.45608094e-11j, ...,\n",
       "         1.68399374e-07+2.02860162e-08j, -6.75278754e-11+5.87496367e-11j,\n",
       "         8.27516487e-07-8.17295573e-08j]], time=array([1.42956063e+00, 3.26477767e+00, 5.08975190e+00, ...,\n",
       "       2.58566851e+04, 2.58567851e+04, 2.58568851e+04]), time_axis=0)"
      ]
     },
     "execution_count": 8,
     "metadata": {},
     "output_type": "execute_result"
    }
   ],
   "source": [
    "sim.h"
   ]
  },
  {
   "cell_type": "markdown",
   "metadata": {},
   "source": [
    "The objects returned will be the subject of the next two notebooks in this series:\n",
    "\n",
    "- [`Horizons`](/tutorials/03-Horizons)\n",
    "- [`WaveformModes`](/tutorials/04-Waveforms)"
   ]
  }
 ],
 "metadata": {
  "kernelspec": {
   "display_name": "Python 3",
   "language": "python",
   "name": "python3"
  },
  "language_info": {
   "codemirror_mode": {
    "name": "ipython",
    "version": 3
   },
   "file_extension": ".py",
   "mimetype": "text/x-python",
   "name": "python",
   "nbconvert_exporter": "python",
   "pygments_lexer": "ipython3",
   "version": "3.12.3"
  },
  "widgets": {
   "application/vnd.jupyter.widget-state+json": {
    "state": {},
    "version_major": 2,
    "version_minor": 0
   }
  }
 },
 "nbformat": 4,
 "nbformat_minor": 4
}
