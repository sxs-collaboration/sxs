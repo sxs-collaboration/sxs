{
 "cells": [
  {
   "cell_type": "markdown",
   "metadata": {},
   "source": [
    "# Simulation\n",
    "\n",
    "Each simulation is encapsulated as an object that is responsible for\n",
    "finding the location of each dataset in the simulation, loading it —\n",
    "which may involve downloading and caching the relevant file — and\n",
    "returning an object that can be used to access that piece of data.\n"
   ]
  },
  {
   "cell_type": "markdown",
   "metadata": {},
   "source": [
    "## Location\n",
    "\n",
    "We begin by simply loading the simulation.  There are three pieces of\n",
    "information needed to identify a simulation:\n",
    "\n",
    "  1. SXS ID\n",
    "\n",
    "     This identifies the simulation type and includes a number.  For\n",
    "     example, \"SXS:BBH:0123\", which identifies this simulation as a\n",
    "     product of the SXS collaboration, specifies that it is a binary\n",
    "     black hole simulation, and that it has been assigned the number\n",
    "     \"0123\" in that series.  Note that these numbers are not\n",
    "     necessarily sequential.  Nor do they necessarily correspond to\n",
    "     the relative age of the simulation; that information is contained\n",
    "     in the metadata itself in the various `date_*` keys.\n",
    "\n",
    "  2. Version\n",
    "     \n",
    "     This identifies the version of the data — like \"v2.0\".  Unlike\n",
    "     the SXS ID, this is an optional specifier.  If not provided, the\n",
    "     most recent version is used.  All versions refer to the same\n",
    "     underlying simulation, but the raw data may have been processed\n",
    "     differently, may be provided in incompatible formats, etc.  For\n",
    "     exploratory work, it is often convenient to simply use the most\n",
    "     recent version.  However, for reproducibility, it is important to\n",
    "     specify the version of the data you use for a given analysis.\n",
    "\n",
    "   3. Lev (resolution)\n",
    "      \n",
    "      This identifies the resolution of the simulation — like \"Lev5\".\n",
    "      This is also optional.  If not provided, the highest resolution\n",
    "      is used.  Note that there is no consistency in the \"Lev\"s\n",
    "      provided for different simulations, nor is there necessarily\n",
    "      even consistency in the meaning of the \"Lev\" between different\n",
    "      simulations (they are not always directly comparable).  Again,\n",
    "      for reproducibility, it is important to specify the resolution\n",
    "      of the data you use for a given analysis.\n",
    "\n",
    "These three pieces of information may be combined into a single string as in\n",
    "any of the following examples of valid inputs:\n",
    "\n",
    "    SXS:BBH:0123\n",
    "    SXS:BBH:0123v2.0\n",
    "    SXS:BBH:0123/Lev5\n",
    "    SXS:BBH:0123v2.0/Lev5\n",
    "\n",
    "The full specification including ID, version, and Lev is called the\n",
    "\"location\", but any of these can be provided to load the simulation:\n",
    "\n",
    "```python\n",
    "sxs.load(\"SXS:BBH:0123\")\n",
    "sxs.load(\"SXS:BBH:0123v2.0\")\n",
    "sxs.load(\"SXS:BBH:0123/Lev5\")\n",
    "sxs.load(\"SXS:BBH:0123v2.0/Lev5\")\n",
    "```"
   ]
  },
  {
   "cell_type": "markdown",
   "metadata": {},
   "source": [
    "## Deprecated or superseded\n",
    "\n",
    "Many simulations are now quite old, and do not have the benefit of\n",
    "years of refinements to the simulation code.  As a result, the SXS\n",
    "collaboration has deprecated many of them, and replaced them with\n",
    "newer simulations of (nearly) the same physical parameters.\n",
    "\n",
    "By default, a deprecated simulation raise an error if you attempt to\n",
    "load it.  However, you can still load it if you want to, by choosing\n",
    "one of the following options:\n",
    "\n",
    "1. Pass `ignore_deprecation=True` to completely bypass even checking\n",
    "   for deprecation or supersession.  No warnings or errors will be\n",
    "   issued.\n",
    "2. Include an explicit version number in the `location` string, as in\n",
    "   \"SXS:BBH:0123v2.0\".  A warning will be issued that the simulation\n",
    "   is deprecated, but it will be loaded anyway.\n",
    "3. Pass `auto_supersede=True` to automatically load the superseding\n",
    "   simulation, if there is only one.  Because no superseding\n",
    "   simulation can be *precisely* the same as the deprecated one, there\n",
    "   may be multiple superseding simulations that have very similar\n",
    "   parameters, in which case an error will be raised and you must\n",
    "   explicitly choose one.  If there is only one, a warning will be\n",
    "   issued, but the superseding simulation will be loaded.\n",
    "4. Configure `sxs` to automatically load superseding simulations by\n",
    "   default with `sxs.write_config(auto_supersede=True)`.  This has the\n",
    "   same effect as passing `auto_supersede=True` to every call to\n",
    "   `sxs.load`.\n",
    "\n",
    "Otherwise, a `ValueError` will be raised, with an explanation and\n",
    "suggestions on what you might want to do.\n",
    "\n",
    "In this case, \"SXS:BBH:0123\" is deprecated, and has been superseded by\n",
    "the much newer simulation \"SXS:BBH:2394\".  We can load the superseding\n",
    "simulation as"
   ]
  },
  {
   "cell_type": "code",
   "execution_count": 1,
   "metadata": {},
   "outputs": [],
   "source": [
    "import sxs\n",
    "\n",
    "sxs_bbh = sxs.load(\"SXS:BBH:0123\", auto_supersede=True)"
   ]
  },
  {
   "cell_type": "markdown",
   "metadata": {},
   "source": [
    "We can see that, even though we requested \"SXS:BBH:0123\", the location of the output\n",
    "simulation object is \"SXS:BBH:2394\":"
   ]
  },
  {
   "cell_type": "code",
   "execution_count": 2,
   "metadata": {},
   "outputs": [
    {
     "data": {
      "text/plain": [
       "'SXS:BBH:2394v2.0/Lev3'"
      ]
     },
     "execution_count": 2,
     "metadata": {},
     "output_type": "execute_result"
    }
   ],
   "source": [
    "sxs_bbh.location"
   ]
  },
  {
   "cell_type": "markdown",
   "metadata": {},
   "source": [
    "Note that the version \"v2.0\" and \"Lev3\" were automatically chosen as the highest values, respectively."
   ]
  },
  {
   "cell_type": "markdown",
   "metadata": {},
   "source": [
    "## Metadata\n",
    "\n",
    "At this point, only the metadata (mentioned in the previous notebook) has been loaded, which we can access naturally:"
   ]
  },
  {
   "cell_type": "code",
   "execution_count": 3,
   "metadata": {},
   "outputs": [
    {
     "data": {
      "text/plain": [
       "Metadata([('simulation_name', '0123/Lev3'),\n",
       "          ('alternative_names', ['BFI:Rerun2013Catalog:0123', 'SXS:BBH:2394']),\n",
       "          ('initial_data_type', 'BBH_SKS'),\n",
       "          ('object_types', 'BHBH'),\n",
       "          ('number_of_orbits', 16.2791500016),\n",
       "          ('reference_mass_ratio', 1.1000208115612666),\n",
       "          ('reference_chi_eff', -0.1586302306069965),\n",
       "          ('reference_chi1_perp', 0.2622664068776661),\n",
       "          ('reference_chi2_perp', 0.06136718678672562),\n",
       "          ('reference_eccentricity', 0.0002189),\n",
       "          ('reference_dimensionless_spin1',\n",
       "           [0.234792297398, 0.133962609266, -0.413950315438]),\n",
       "          ('reference_dimensionless_spin2',\n",
       "           [0.0567474431242, -0.030810829516, 0.126303716166]),\n",
       "          ('reference_orbital_frequency',\n",
       "           [6.69100038116e-05, -0.000825658162723, 0.0167640334202]),\n",
       "          ('reference_mass1', 0.523815149031),\n",
       "          ('reference_mass2', 0.476186580768),\n",
       "          ('reference_time', 640.0),\n",
       "          ('reference_position1',\n",
       "           [-3.6672233022, -6.20988908776, -0.297832257265]),\n",
       "          ('reference_position2',\n",
       "           [4.00044287682, 6.81603477067, 0.313113601092]),\n",
       "          ('reference_mean_anomaly', 2.317684),\n",
       "          ('keywords', []),\n",
       "          ('point_of_contact_email', 'mgiesler@tapir.caltech.edu'),\n",
       "          ('authors_emails', []),\n",
       "          ('simulation_bibtex_keys', 'SXSCatalogWebsite'),\n",
       "          ('code_bibtex_keys',\n",
       "           ['Ossokine:2013zga',\n",
       "            'Hemberger:2012jz',\n",
       "            'Szilagyi:2009qz',\n",
       "            'Boyle:2009vi',\n",
       "            'Scheel:2008rj',\n",
       "            'Boyle:2007ft',\n",
       "            'Scheel:2006gg',\n",
       "            'Lindblom:2005qh',\n",
       "            'Pfeiffer:2002wt',\n",
       "            'SpECwebsite']),\n",
       "          ('initial_data_bibtex_keys',\n",
       "           ['Buchman:2012dw',\n",
       "            'Lovelace:2008tw',\n",
       "            'Pfeiffer:2007yz',\n",
       "            'Caudill:2006hw',\n",
       "            'Cook:2004kt']),\n",
       "          ('quasicircular_bibtex_keys',\n",
       "           ['Mroue:2012kv',\n",
       "            'Buonanno:2010yk',\n",
       "            'Mroue:2010re',\n",
       "            'Boyle:2007ft']),\n",
       "          ('initial_separation', 15.0),\n",
       "          ('initial_orbital_frequency', 0.015830578376),\n",
       "          ('initial_adot', -7.63131119861e-05),\n",
       "          ('object1', 'bh'),\n",
       "          ('object2', 'bh'),\n",
       "          ('initial_ADM_energy', 0.9926740286191873),\n",
       "          ('initial_ADM_linear_momentum',\n",
       "           [-7.9624857e-09, 6.12834433e-08, 4.734964e-10]),\n",
       "          ('initial_ADM_angular_momentum',\n",
       "           [0.0796391884578617, -0.0217888728450736, 1.0227626255444326]),\n",
       "          ('initial_mass1', 0.5238095262843354),\n",
       "          ('initial_mass2', 0.4761904772055863),\n",
       "          ('initial_dimensionless_spin1',\n",
       "           [0.2660000044456251, -0.0234000006567968, -0.4160000052749257]),\n",
       "          ('initial_dimensionless_spin2',\n",
       "           [0.026999999019955, -0.059499998451218, 0.1259999940884265]),\n",
       "          ('initial_position1',\n",
       "           [7.159569054182349, 0.0050868245586636, 0.0069141250408851]),\n",
       "          ('initial_position2',\n",
       "           [-7.840430945817651, 0.0050868245586636, 0.0069141250408851]),\n",
       "          ('relaxation_time', 640.0),\n",
       "          ('common_horizon_time', 4287.50011046),\n",
       "          ('remnant_mass', 0.955693360591),\n",
       "          ('remnant_dimensionless_spin',\n",
       "           [0.0488246175109, -0.00413167687134, 0.632224522936]),\n",
       "          ('remnant_velocity',\n",
       "           [0.000373985682608, 0.000396513926344, 0.001305972208]),\n",
       "          ('metadata_version', 1),\n",
       "          ('spec_revisions', 'InitialCommit-30833-gb8f568e54a'),\n",
       "          ('spells_revision', 'b8f568e54a24e004a15487c0f0a6f8b37d994ef2'),\n",
       "          ('date_postprocessing', '2019-04-22T07:49:11-07:00'),\n",
       "          ('date_run_earliest', '2018-08-10T15:31:53'),\n",
       "          ('date_run_latest', '2018-08-20T10:14:39'),\n",
       "          ('date_link_earliest', '2018-08-06T14:45:14-05:00'),\n",
       "          ('initial_mass_ratio', 1.1000000028522),\n",
       "          ('DOI_versions', ['', 'v2.0'])])"
      ]
     },
     "execution_count": 3,
     "metadata": {},
     "output_type": "execute_result"
    }
   ],
   "source": [
    "sxs_bbh.metadata"
   ]
  },
  {
   "cell_type": "markdown",
   "metadata": {},
   "source": [
    "Just as `simulations.dataframe` allows us to extract the metadata for all simulations as a uniform `pandas` table, we can extract the metadata for this one simulation in a format consistent with other simulations as a `pandas` series:"
   ]
  },
  {
   "cell_type": "code",
   "execution_count": 4,
   "metadata": {},
   "outputs": [
    {
     "data": {
      "text/plain": [
       "object_types                                                                  BHBH\n",
       "initial_data_type                                                          BBH_SKS\n",
       "initial_separation                                                            15.0\n",
       "initial_orbital_frequency                                                 0.015831\n",
       "initial_adot                                                             -0.000076\n",
       "initial_ADM_energy                                                        0.992674\n",
       "initial_ADM_linear_momentum          [-7.9624857e-09, 6.12834433e-08, 4.734964e...\n",
       "initial_ADM_linear_momentum_mag                                                0.0\n",
       "initial_ADM_angular_momentum         [0.0796391884578617, -0.0217888728450736, ...\n",
       "initial_ADM_angular_momentum_mag                                           1.02609\n",
       "initial_mass1                                                              0.52381\n",
       "initial_mass2                                                              0.47619\n",
       "initial_mass_ratio                                                             1.1\n",
       "initial_dimensionless_spin1          [0.2660000044456251, -0.0234000006567968, ...\n",
       "initial_dimensionless_spin1_mag                                           0.494327\n",
       "initial_dimensionless_spin2          [0.026999999019955, -0.059499998451218, 0....\n",
       "initial_dimensionless_spin2_mag                                           0.141934\n",
       "initial_position1                    [7.159569054182349, 0.0050868245586636, 0....\n",
       "initial_position2                    [-7.840430945817651, 0.0050868245586636, 0...\n",
       "reference_time                                                               640.0\n",
       "reference_separation                                                     15.127493\n",
       "reference_orbital_frequency_mag                                           0.016784\n",
       "reference_mass_ratio                                                      1.100021\n",
       "reference_chi1_mag                                                        0.494397\n",
       "reference_chi2_mag                                                        0.141853\n",
       "reference_chi_eff                                                         -0.15863\n",
       "reference_chi1_perp                                                       0.262266\n",
       "reference_chi2_perp                                                       0.061367\n",
       "reference_eccentricity                                                    0.000219\n",
       "reference_eccentricity_bound                                              0.000219\n",
       "reference_mean_anomaly                                                    2.317684\n",
       "reference_mass1                                                           0.523815\n",
       "reference_mass2                                                           0.476187\n",
       "reference_dimensionless_spin1        [0.234792297398, 0.133962609266, -0.413950...\n",
       "reference_dimensionless_spin1_mag                                         0.494397\n",
       "reference_dimensionless_spin2        [0.0567474431242, -0.030810829516, 0.12630...\n",
       "reference_dimensionless_spin2_mag                                         0.141853\n",
       "reference_orbital_frequency          [6.69100038116e-05, -0.000825658162723, 0....\n",
       "reference_position1                  [-3.6672233022, -6.20988908776, -0.2978322...\n",
       "reference_position2                  [4.00044287682, 6.81603477067, 0.313113601...\n",
       "relaxation_time                                                              640.0\n",
       "common_horizon_time                                                     4287.50011\n",
       "remnant_mass                                                              0.955693\n",
       "remnant_dimensionless_spin           [0.0488246175109, -0.00413167687134, 0.632...\n",
       "remnant_dimensionless_spin_mag                                             0.63412\n",
       "remnant_velocity                     [0.000373985682608, 0.000396513926344, 0.0...\n",
       "remnant_velocity_mag                                                      0.001415\n",
       "EOS                                                                            NaN\n",
       "initial_data_type                                                          BBH_SKS\n",
       "disk_mass                                                                      NaN\n",
       "ejecta_mass                                                                    NaN\n",
       "date_link_earliest                                       2018-08-06 14:45:14-05:00\n",
       "date_postprocessing                                      2019-04-22 07:49:11-07:00\n",
       "date_run_earliest                                        0001-01-01 00:00:00+00:00\n",
       "date_run_latest                                          0001-01-01 00:00:00+00:00\n",
       "number_of_orbits                                                          16.27915\n",
       "superseded_by                                                                  NaN\n",
       "DOI_versions                                                              [, v2.0]\n",
       "keywords                                                                        []\n",
       "Name: SXS:BBH:2394, dtype: object"
      ]
     },
     "metadata": {},
     "output_type": "display_data"
    }
   ],
   "source": [
    "import pandas as pd\n",
    "\n",
    "# The next line is just to ensure the output doesn't look ugly in the docs\n",
    "with pd.option_context(\"max_colwidth\", 46):\n",
    "    display(sxs_bbh.series)"
   ]
  },
  {
   "cell_type": "markdown",
   "metadata": {},
   "source": [
    "Various relevant pieces of information about the simulation are also\n",
    "available as attributes of the simulation object.  For example, we may\n",
    "wish to know which versions are available:"
   ]
  },
  {
   "cell_type": "code",
   "execution_count": 5,
   "metadata": {},
   "outputs": [
    {
     "data": {
      "text/plain": [
       "['', 'v2.0']"
      ]
     },
     "execution_count": 5,
     "metadata": {},
     "output_type": "execute_result"
    }
   ],
   "source": [
    "sxs_bbh.versions"
   ]
  },
  {
   "cell_type": "markdown",
   "metadata": {},
   "source": [
    "In this case, only the generic version, `\"\"`, and a version from the second catalog, `\"v2.0\"`, are available, because SXS:BBH:2394 is a new simulation.\n",
    "\n",
    "These versions track modifications to the files representing the data and — together with the SXS ID — establish the unique identifier for the data set.  This unique identifier is also published as a DOI.  The DOI prefix for SXS data is 10.26138, and the full DOI for any simulation is given by combining these:"
   ]
  },
  {
   "cell_type": "code",
   "execution_count": 6,
   "metadata": {},
   "outputs": [
    {
     "data": {
      "text/plain": [
       "'https://doi.org/10.26138/SXS:BBH:2394v2.0'"
      ]
     },
     "execution_count": 6,
     "metadata": {},
     "output_type": "execute_result"
    }
   ],
   "source": [
    "sxs_bbh.url"
   ]
  },
  {
   "cell_type": "markdown",
   "metadata": {},
   "source": [
    "These DOIs are permanent and can be used to refer to the data in\n",
    "publications, in the same way that DOIs for journal articles are used.\n",
    "They point to deposits of the data in the Zenodo repository, which is\n",
    "a long-term, open-access archive.  This is also where the data are\n",
    "automatically obtained when you load a particular data set for the\n",
    "first time."
   ]
  },
  {
   "cell_type": "markdown",
   "metadata": {},
   "source": [
    "## Data\n",
    "\n",
    "Besides the metadata, the remaining data sets are loaded lazily.  This\n",
    "means that we can access the data as needed, but the cost in time and\n",
    "resources is not paid unless and until the data is actually accessed.\n",
    "Specifically, the time to download the data if needed, the disk space\n",
    "required to cache it if desired, the time to load the data from disk,\n",
    "and the memory required to store it are all deferred to the point of\n",
    "use.\n",
    "\n",
    "For example, we can access data describing the horizons as"
   ]
  },
  {
   "cell_type": "code",
   "execution_count": 7,
   "metadata": {},
   "outputs": [
    {
     "data": {
      "text/plain": [
       "<sxs.horizons.Horizons at 0x320031450>"
      ]
     },
     "execution_count": 7,
     "metadata": {},
     "output_type": "execute_result"
    }
   ],
   "source": [
    "sxs_bbh.horizons"
   ]
  },
  {
   "cell_type": "markdown",
   "metadata": {},
   "source": [
    "And data describing the waveform as"
   ]
  },
  {
   "cell_type": "code",
   "execution_count": 8,
   "metadata": {},
   "outputs": [
    {
     "data": {
      "text/plain": [
       "WaveformModes([[-5.16037020e-02-2.06347735e-02j,  4.20048090e-03-2.37941104e-04j,\n",
       "        -5.61648391e-03-2.20335263e-04j, ...,\n",
       "         2.68997649e-05-1.03174161e-04j,  1.06676465e-04-2.17019697e-05j,\n",
       "        -6.08846226e-05-2.45457325e-05j],\n",
       "       [-5.39636042e-02-2.17428469e-02j,  4.33165015e-03+1.27649386e-05j,\n",
       "        -9.07673443e-03-1.93966662e-04j, ...,\n",
       "        -1.88319693e-06-1.01668419e-04j,  1.06194851e-04+3.20981128e-05j,\n",
       "         7.02178990e-05-3.28428107e-05j],\n",
       "       [-5.80508703e-02-2.26188992e-02j,  4.46988000e-03+3.49591765e-04j,\n",
       "        -1.11737936e-02-1.40045493e-04j, ...,\n",
       "        -2.82041113e-05-8.77757310e-05j,  8.16792872e-05+7.99667559e-05j,\n",
       "         1.80576360e-04-2.07837032e-05j],\n",
       "       ...,\n",
       "       [ 1.79758572e-04-2.57447253e-04j,  8.88383893e-03-4.28228586e-03j,\n",
       "         7.20501214e-02-6.52173524e-08j, ...,\n",
       "         4.24869385e-08-2.13346232e-08j, -2.22454446e-08+4.27985831e-08j,\n",
       "        -1.40548692e-07+1.21393256e-07j],\n",
       "       [ 1.79750972e-04-2.57406571e-04j,  8.88384073e-03-4.28228205e-03j,\n",
       "         7.20500892e-02-6.45193617e-08j, ...,\n",
       "         4.24697016e-08-2.14290610e-08j, -2.22052345e-08+4.28883976e-08j,\n",
       "        -1.40503916e-07+1.21634632e-07j],\n",
       "       [ 1.79740697e-04-2.57366969e-04j,  8.88384246e-03-4.28227800e-03j,\n",
       "         7.20500569e-02-6.38998547e-08j, ...,\n",
       "         4.24511433e-08-2.15226095e-08j, -2.21663878e-08+4.29781242e-08j,\n",
       "        -1.40458732e-07+1.21866778e-07j]], time=array([7.99800170e-02, 1.02512291e+00, 1.97457851e+00, ...,\n",
       "       4.44808019e+03, 4.44818018e+03, 4.44828018e+03]), time_axis=0)"
      ]
     },
     "execution_count": 8,
     "metadata": {},
     "output_type": "execute_result"
    }
   ],
   "source": [
    "sxs_bbh.h"
   ]
  },
  {
   "cell_type": "markdown",
   "metadata": {},
   "source": [
    "The objects returned will be the subject of the next two notebooks in this series:\n",
    "\n",
    "- [`Horizons`](/tutorials/03-Horizons)\n",
    "- [`WaveformModes`](/tutorials/04-Waveforms)"
   ]
  }
 ],
 "metadata": {
  "kernelspec": {
   "display_name": "Python 3",
   "language": "python",
   "name": "python3"
  },
  "language_info": {
   "codemirror_mode": {
    "name": "ipython",
    "version": 3
   },
   "file_extension": ".py",
   "mimetype": "text/x-python",
   "name": "python",
   "nbconvert_exporter": "python",
   "pygments_lexer": "ipython3",
   "version": "3.11.9"
  },
  "widgets": {
   "application/vnd.jupyter.widget-state+json": {
    "state": {},
    "version_major": 2,
    "version_minor": 0
   }
  }
 },
 "nbformat": 4,
 "nbformat_minor": 4
}
